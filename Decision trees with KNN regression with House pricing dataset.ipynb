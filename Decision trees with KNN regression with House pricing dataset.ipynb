{
 "cells": [
  {
   "cell_type": "code",
   "execution_count": 1,
   "metadata": {},
   "outputs": [],
   "source": [
    "import numpy as np\n",
    "import matplotlib.pyplot as plt \n",
    "\n",
    "import pandas as pd  \n",
    "import seaborn as sns \n",
    "\n",
    "import timeit\n",
    "import warnings\n",
    "warnings.filterwarnings('ignore')\n",
    "\n",
    "from sklearn import preprocessing\n",
    "\n",
    "%matplotlib inline"
   ]
  },
  {
   "cell_type": "code",
   "execution_count": 2,
   "metadata": {},
   "outputs": [],
   "source": [
    "pd.options.display.max_rows = 100\n",
    "pd.options.display.max_columns = 100"
   ]
  },
  {
   "cell_type": "code",
   "execution_count": 3,
   "metadata": {},
   "outputs": [
    {
     "data": {
      "text/plain": [
       "(21613, 21)"
      ]
     },
     "execution_count": 3,
     "metadata": {},
     "output_type": "execute_result"
    }
   ],
   "source": [
    "data = pd.read_csv(\"housesalesprediction/kc_house_data.csv\")\n",
    "data.shape"
   ]
  },
  {
   "cell_type": "code",
   "execution_count": 4,
   "metadata": {},
   "outputs": [],
   "source": [
    "feature_cols = ['bedrooms', 'bathrooms', 'sqft_living','sqft_lot', 'floors', 'waterfront', 'view', 'condition', 'grade',\n",
    "             'sqft_above', 'sqft_basement','sqft_living15', 'sqft_lot15']\n",
    "cont_cols = ['bedrooms','bathrooms','sqft_living','sqft_lot','floors','sqft_above','sqft_basement','sqft_living15','sqft_lot15']\n",
    "cat_cols = ['waterfront', 'view', 'condition', 'grade']\n",
    "target_col = 'price'"
   ]
  },
  {
   "cell_type": "code",
   "execution_count": 5,
   "metadata": {},
   "outputs": [],
   "source": [
    "X = data[feature_cols]\n",
    "Y = data[target_col]"
   ]
  },
  {
   "cell_type": "code",
   "execution_count": 6,
   "metadata": {},
   "outputs": [],
   "source": [
    "def remove_outlier(df_in):\n",
    "    for col_name in df_in.columns:\n",
    "        if col_name in cont_cols:\n",
    "            q1 = df_in[col_name].quantile(0.25)\n",
    "            q3 = df_in[col_name].quantile(0.75)\n",
    "            iqr = q3-q1 #Interquartile range\n",
    "            fence_low  = q1-1.5*iqr\n",
    "            fence_high = q3+1.5*iqr\n",
    "            df_in[col_name] = df_in[col_name].clip(fence_low,fence_high)\n",
    "        else:\n",
    "            pass\n",
    "    return df_in"
   ]
  },
  {
   "cell_type": "code",
   "execution_count": 7,
   "metadata": {},
   "outputs": [],
   "source": [
    "X_wo = remove_outlier(X.copy())"
   ]
  },
  {
   "cell_type": "code",
   "execution_count": 8,
   "metadata": {},
   "outputs": [
    {
     "name": "stdout",
     "output_type": "stream",
     "text": [
      "(15129, 13)\n",
      "(6484, 13)\n",
      "(15129,)\n",
      "(6484,)\n"
     ]
    }
   ],
   "source": [
    "from sklearn.model_selection import train_test_split\n",
    "\n",
    "X_train, X_test, Y_train, Y_test = train_test_split(X_wo, Y, test_size = 0.3, random_state=5)\n",
    "print(X_train.shape)\n",
    "print(X_test.shape)\n",
    "print(Y_train.shape)\n",
    "print(Y_test.shape)"
   ]
  },
  {
   "cell_type": "code",
   "execution_count": 9,
   "metadata": {},
   "outputs": [],
   "source": [
    "# Scaling for KNN\n",
    "\n",
    "scaler = preprocessing.MinMaxScaler()\n",
    "train_scaled = pd.DataFrame(scaler.fit_transform(X_train[cont_cols]), columns=cont_cols, index = X_train.index)\n",
    "test_scaled = pd.DataFrame(scaler.transform(X_test[cont_cols]), columns=cont_cols, index = X_test.index)\n",
    "\n",
    "X_train = pd.concat([train_scaled, X_train[cat_cols]], axis =1)\n",
    "X_test = pd.concat([test_scaled, X_test[cat_cols]], axis =1)"
   ]
  },
  {
   "cell_type": "code",
   "execution_count": 10,
   "metadata": {},
   "outputs": [],
   "source": [
    "# import the regressor \n",
    "from sklearn.tree import DecisionTreeRegressor\n",
    "from sklearn.neighbors import KNeighborsRegressor\n",
    "from sklearn.metrics import mean_squared_error"
   ]
  },
  {
   "cell_type": "code",
   "execution_count": 11,
   "metadata": {},
   "outputs": [
    {
     "name": "stdout",
     "output_type": "stream",
     "text": [
      "Time elapsed in seconds 2.0287273000000003\n"
     ]
    }
   ],
   "source": [
    "# PNN - Ensembling CART and KNN\n",
    "\n",
    "start_time = timeit.default_timer()\n",
    "# create a regressor object\n",
    "regressor = DecisionTreeRegressor(random_state = 0, min_samples_leaf = 20, max_depth = 4)\n",
    "  \n",
    "# fit the regressor with X and Y data\n",
    "regressor.fit(X_train, Y_train)\n",
    "y_train_predict = regressor.predict(X_train)\n",
    "y_test_predict = regressor.predict(X_test)\n",
    "\n",
    "df_train = pd.concat([X_train,Y_train], axis = 1)\n",
    "df_train['Tree_pred'] = y_train_predict\n",
    "df_train.loc[:,'Leaf_node'] = regressor.apply(X_train) # To get leaf node for each training sample\n",
    "\n",
    "df_test = pd.concat([X_test,Y_test], axis = 1)\n",
    "df_test['Tree_pred'] = y_test_predict\n",
    "df_test.loc[:,'Leaf_node'] = regressor.apply(X_test) # To get leaf node for each test sample\n",
    "\n",
    "df_final = pd.DataFrame()\n",
    "for i in df_test['Leaf_node'].unique():\n",
    "    X_train = df_train[df_train['Leaf_node']==i]\n",
    "    X_test = df_test[df_test['Leaf_node']==i]\n",
    "    \n",
    "    if(X_train.shape[0]>10):\n",
    "        neigh = KNeighborsRegressor(n_neighbors=5)\n",
    "        neigh.fit(X_train[feature_cols],X_train[target_col])\n",
    "        X_test.loc[:,'pred'] = neigh.predict(X_test[feature_cols])\n",
    "    elif(X_train.shape[0]>=3):\n",
    "        neigh = KNeighborsRegressor(n_neighbors=3)\n",
    "        neigh.fit(X_train[feature_cols],X_train[target_col])\n",
    "        X_test.loc[:,'pred'] = neigh.predict(X_test[feature_cols])        \n",
    "    else:\n",
    "        X_test.loc[:,'pred'] = regressor.predict(X_test[feature_cols])\n",
    "        \n",
    "    df_final = pd.concat([df_final,X_test], axis = 0)\n",
    "\n",
    "print(\"Time elapsed in seconds\",timeit.default_timer() - start_time)"
   ]
  },
  {
   "cell_type": "code",
   "execution_count": 12,
   "metadata": {},
   "outputs": [
    {
     "data": {
      "text/plain": [
       "234357.19250368702"
      ]
     },
     "execution_count": 12,
     "metadata": {},
     "output_type": "execute_result"
    }
   ],
   "source": [
    "# RMSE for Decision Tree Predictions\n",
    "\n",
    "(np.sqrt(mean_squared_error(df_final[target_col], df_final['Tree_pred'])))"
   ]
  },
  {
   "cell_type": "code",
   "execution_count": 13,
   "metadata": {},
   "outputs": [
    {
     "data": {
      "text/plain": [
       "220270.5054191276"
      ]
     },
     "execution_count": 13,
     "metadata": {},
     "output_type": "execute_result"
    }
   ],
   "source": [
    "# RMSE for PNN predictions\n",
    "\n",
    "(np.sqrt(mean_squared_error(df_final[target_col], df_final['pred'])))"
   ]
  },
  {
   "cell_type": "code",
   "execution_count": 14,
   "metadata": {},
   "outputs": [],
   "source": [
    "# MAPE\n",
    "def mean_absolute_percentage_error(y_true, y_pred): \n",
    "    y_true, y_pred = np.array(y_true), np.array(y_pred)\n",
    "    return np.mean(np.abs((y_true - y_pred) / y_true)) * 100"
   ]
  },
  {
   "cell_type": "code",
   "execution_count": 15,
   "metadata": {},
   "outputs": [
    {
     "data": {
      "text/plain": [
       "32.08694592006732"
      ]
     },
     "execution_count": 15,
     "metadata": {},
     "output_type": "execute_result"
    }
   ],
   "source": [
    "# MAPE for Decision Tree Predictions\n",
    "mean_absolute_percentage_error(df_final[target_col], df_final['Tree_pred'])"
   ]
  },
  {
   "cell_type": "code",
   "execution_count": 16,
   "metadata": {},
   "outputs": [
    {
     "data": {
      "text/plain": [
       "26.61722748426939"
      ]
     },
     "execution_count": 16,
     "metadata": {},
     "output_type": "execute_result"
    }
   ],
   "source": [
    "# MAPE for PNN prediction\n",
    "mean_absolute_percentage_error(df_final[target_col], df_final['pred'])"
   ]
  },
  {
   "cell_type": "code",
   "execution_count": 17,
   "metadata": {},
   "outputs": [
    {
     "data": {
      "text/plain": [
       "(289361.889141703, 313631.288087317)"
      ]
     },
     "execution_count": 17,
     "metadata": {},
     "output_type": "execute_result"
    }
   ],
   "source": [
    "# Standard deviation in prediction of Decision Tree and PNN\n",
    "df_final['Tree_pred'].std(), df_final['pred'].std()"
   ]
  },
  {
   "cell_type": "markdown",
   "metadata": {},
   "source": [
    "### Random Forest"
   ]
  },
  {
   "cell_type": "code",
   "execution_count": 18,
   "metadata": {},
   "outputs": [
    {
     "name": "stdout",
     "output_type": "stream",
     "text": [
      "(15129, 13)\n",
      "(6484, 13)\n",
      "(15129,)\n",
      "(6484,)\n"
     ]
    }
   ],
   "source": [
    "from sklearn.model_selection import train_test_split\n",
    "\n",
    "X_train, X_test, Y_train, Y_test = train_test_split(X_wo, Y, test_size = 0.3, random_state=5)\n",
    "print(X_train.shape)\n",
    "print(X_test.shape)\n",
    "print(Y_train.shape)\n",
    "print(Y_test.shape)"
   ]
  },
  {
   "cell_type": "code",
   "execution_count": 19,
   "metadata": {},
   "outputs": [
    {
     "name": "stdout",
     "output_type": "stream",
     "text": [
      "Time elapsed in seconds 3.1589329000000004\n",
      "The model performance for testing set\n",
      "--------------------------------------\n",
      "RMSE is 239401.49754966956\n",
      "MAPE for testing set is\n"
     ]
    },
    {
     "data": {
      "text/plain": [
       "33.158558855620804"
      ]
     },
     "execution_count": 19,
     "metadata": {},
     "output_type": "execute_result"
    }
   ],
   "source": [
    "start_time = timeit.default_timer()\n",
    "\n",
    "from sklearn.ensemble import RandomForestRegressor\n",
    "from sklearn.metrics import mean_squared_error\n",
    "\n",
    "regr = RandomForestRegressor(max_depth=3, random_state=0,\n",
    "                             n_estimators=100)\n",
    "regr.fit(X_train, Y_train)\n",
    "\n",
    "# model evaluation for testing set\n",
    "y_test_predict = regr.predict(X_test)\n",
    "\n",
    "print(\"Time elapsed in seconds\",timeit.default_timer() - start_time)\n",
    "rmse = (np.sqrt(mean_squared_error(Y_test, y_test_predict)))\n",
    "\n",
    "print(\"The model performance for testing set\")\n",
    "print(\"--------------------------------------\")\n",
    "print('RMSE is {}'.format(rmse))\n",
    "\n",
    "print('MAPE for testing set is')\n",
    "mean_absolute_percentage_error(Y_test, y_test_predict)"
   ]
  },
  {
   "cell_type": "markdown",
   "metadata": {},
   "source": [
    "\n",
    "### KNN Regression"
   ]
  },
  {
   "cell_type": "code",
   "execution_count": 20,
   "metadata": {},
   "outputs": [
    {
     "name": "stdout",
     "output_type": "stream",
     "text": [
      "(15129, 13)\n",
      "(6484, 13)\n",
      "(15129,)\n",
      "(6484,)\n"
     ]
    }
   ],
   "source": [
    "from sklearn.model_selection import train_test_split\n",
    "\n",
    "X_train, X_test, Y_train, Y_test = train_test_split(X_wo, Y, test_size = 0.3, random_state=5)\n",
    "print(X_train.shape)\n",
    "print(X_test.shape)\n",
    "print(Y_train.shape)\n",
    "print(Y_test.shape)"
   ]
  },
  {
   "cell_type": "code",
   "execution_count": 21,
   "metadata": {},
   "outputs": [],
   "source": [
    "# Scaling for KNN\n",
    "\n",
    "scaler = preprocessing.MinMaxScaler()\n",
    "train_scaled = pd.DataFrame(scaler.fit_transform(X_train[cont_cols]), columns=cont_cols, index = X_train.index)\n",
    "test_scaled = pd.DataFrame(scaler.transform(X_test[cont_cols]), columns=cont_cols, index = X_test.index)\n",
    "\n",
    "X_train = pd.concat([train_scaled, X_train[cat_cols]], axis =1)\n",
    "X_test = pd.concat([test_scaled, X_test[cat_cols]], axis =1)"
   ]
  },
  {
   "cell_type": "code",
   "execution_count": 22,
   "metadata": {},
   "outputs": [
    {
     "name": "stdout",
     "output_type": "stream",
     "text": [
      "Time elapsed in seconds 1.4480021\n",
      "The model performance for testing set\n",
      "--------------------------------------\n",
      "RMSE is 216766.55380178537\n",
      "MAPE for testing set is\n"
     ]
    },
    {
     "data": {
      "text/plain": [
       "26.40565990234704"
      ]
     },
     "execution_count": 22,
     "metadata": {},
     "output_type": "execute_result"
    }
   ],
   "source": [
    "start_time = timeit.default_timer()\n",
    "\n",
    "from sklearn.neighbors import KNeighborsRegressor\n",
    "from sklearn.metrics import mean_squared_error\n",
    "\n",
    "neigh = KNeighborsRegressor(n_neighbors=5, metric=\"euclidean\")\n",
    "neigh.fit(X_train, Y_train)\n",
    "\n",
    "# model evaluation for testing set\n",
    "y_test_predict = neigh.predict(X_test)\n",
    "rmse = (np.sqrt(mean_squared_error(Y_test, y_test_predict)))\n",
    "print(\"Time elapsed in seconds\",timeit.default_timer() - start_time)\n",
    "\n",
    "print(\"The model performance for testing set\")\n",
    "print(\"--------------------------------------\")\n",
    "print('RMSE is {}'.format(rmse))\n",
    "\n",
    "print('MAPE for testing set is')\n",
    "mean_absolute_percentage_error(Y_test, y_test_predict)"
   ]
  },
  {
   "cell_type": "code",
   "execution_count": null,
   "metadata": {},
   "outputs": [],
   "source": []
  }
 ],
 "metadata": {
  "kernelspec": {
   "display_name": "Python 3",
   "language": "python",
   "name": "python3"
  },
  "language_info": {
   "codemirror_mode": {
    "name": "ipython",
    "version": 3
   },
   "file_extension": ".py",
   "mimetype": "text/x-python",
   "name": "python",
   "nbconvert_exporter": "python",
   "pygments_lexer": "ipython3",
   "version": "3.6.5"
  }
 },
 "nbformat": 4,
 "nbformat_minor": 2
}
